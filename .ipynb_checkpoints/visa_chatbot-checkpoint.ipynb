{
 "cells": [
  {
   "cell_type": "code",
   "execution_count": null,
   "id": "b66ee5d7-586e-4769-bc5b-81371bc2fddc",
   "metadata": {},
   "outputs": [],
   "source": [
    "import os\n",
    "import json\n",
    "from dotenv import load_dotenv\n",
    "from openai import OpenAI\n",
    "import pycountry"
   ]
  },
  {
   "cell_type": "code",
   "execution_count": null,
   "id": "324a31f7-7a5a-4bf8-a23c-1a3ad478fc7b",
   "metadata": {},
   "outputs": [],
   "source": [
    "load_dotenv()\n",
    "openai_api_key = os.getenv(\"OPENAI_API_KEY\")\n",
    "\n",
    "if not openai_api_key:\n",
    "    raise ValueError(\"OPENAI_API_KEY not found in .env file.\")\n",
    "\n",
    "client = OpenAI(api_key = openai_api_key)\n",
    "\n",
    "with open(\"visa_information.json\", \"r\") as file:\n",
    "    visa_data = json.load(file)"
   ]
  },
  {
   "cell_type": "code",
   "execution_count": null,
   "id": "6ec319d9-f826-4a84-a66c-9eccfb469584",
   "metadata": {},
   "outputs": [],
   "source": [
    "def get_country_code(country_name):\n",
    "    try:\n",
    "        return pycountry.countries.lookup(country_name).alpha_3\n",
    "    except LookupError:\n",
    "        return None"
   ]
  },
  {
   "cell_type": "code",
   "execution_count": null,
   "id": "f138592e-bafb-4f9f-ae17-566de5a8f145",
   "metadata": {},
   "outputs": [],
   "source": [
    "def check_visa(passport_country_name, destination_country_name):\n",
    "    passport_code = get_country_code(passport_country_name)\n",
    "    dest_code = get_country_code(destination_country_name)\n",
    "\n",
    "    if not passport_code or not dest_code:\n",
    "        return {\"status\": \"unknownCountry\", \"max_stay\": None}\n",
    "\n",
    "    if dest_code not in visa_data:\n",
    "        return {\"status\": \"applyOffline\", \"max_stay\": None}\n",
    "\n",
    "    destination_info = visa_data[dest_code]\n",
    "\n",
    "    if \"visaFree\" in destination_info and passport_code in destination_info[\"visaFree\"]:\n",
    "        max_stay = destination_info[\"visaFree\"][passport_code].get(\"maxStay\")\n",
    "        return {\"status\": \"visaFree\", \"max_stay\": max_stay}\n",
    "\n",
    "    if \"visaOnArrival\" in destination_info and passport_code in destination_info[\"visaOnArrival\"]:\n",
    "        max_stay = destination_info[\"visaOnArrival\"][passport_code].get(\"maxStay\")\n",
    "        return {\"status\": \"visaOnArrival\", \"max_stay\": max_stay}\n",
    "\n",
    "    return {\"status\": \"applyOffline\", \"max_stay\": None}"
   ]
  },
  {
   "cell_type": "code",
   "execution_count": null,
   "id": "4c2671e3-552d-4ffc-9896-3a7ec8313a99",
   "metadata": {},
   "outputs": [],
   "source": [
    "tools = [\n",
    "    {\n",
    "        \"type\": \"function\",\n",
    "        \"function\": {\n",
    "            \"name\": \"get_visa_requirements\",\n",
    "            \"description\": \"Determines visa requirements (visa type, max stay) for travel between two countries based ONLY on provided data.\",\n",
    "            \"parameters\": {\n",
    "                \"type\": \"object\",\n",
    "                \"properties\": {\n",
    "                    \"passport_country_name\": {\n",
    "                        \"type\": \"string\",\n",
    "                        \"description\": \"The traveler's passport issuing country e.g. Lebanon, Singapore.\",\n",
    "                    },\n",
    "                    \"destination_country_name\": {\n",
    "                        \"type\": \"string\",\n",
    "                        \"description\": \"The country the traveler wants to visit e.g. Portugal.\",\n",
    "                    },\n",
    "                },\n",
    "                \"required\": [\"passport_country_name\", \"destination_country_name\"],\n",
    "            },\n",
    "        }\n",
    "    }\n",
    "]\n",
    "\n",
    "model_name = \"gpt-4o-mini\" \n",
    "\n",
    "system_prompt = \"\"\"You are a visa assistant. Follow these steps:\n",
    "- Ask for passport country and destination if missing\n",
    "- Use only the provided function for visa checks\n",
    "- Thank the user for providing the info and respond based on these statuses:\n",
    "   - visaFree: Let the user know they don’t need a visa and mention the maximum stay in days if available.\n",
    "   - visaOnArrival: Let the user know they can get a visa on arrival and mention the maximum stay in days if available.\n",
    "   - applyOffline: Let the user know they need to apply for a visa before traveling, stating that visa-free or visa-on-arrival options are not available.\n",
    "   - unknownCountry: Let the user know you couldn't recognize one of the countries and ask them to clarify.\n",
    "- Do not provide any visa information based on your own knowledge, only use the result from the function call.\n",
    "- Keep responses concise, friendly, and professional\"\"\""
   ]
  },
  {
   "cell_type": "code",
   "execution_count": null,
   "id": "8ac1bae9-0717-469d-ae26-a4268991d82e",
   "metadata": {},
   "outputs": [],
   "source": [
    "def run_conversation():\n",
    "    messages = [{\"role\": \"system\", \"content\": system_prompt}]\n",
    "    print(\"\\nAI: Hello! How can I help you with visa requirements today? Please tell me your passport nationality and destination country.\")\n",
    "\n",
    "    while True:\n",
    "        user_input = input(\"You: \")\n",
    "        if user_input.lower() in ['quit', 'exit', 'bye']:\n",
    "            print(\"AI: Goodbye!\")\n",
    "            break\n",
    "\n",
    "        messages.append({\"role\": \"user\", \"content\": user_input})\n",
    "\n",
    "        try:\n",
    "            response = client.chat.completions.create(\n",
    "                model=model_name,\n",
    "                messages=messages,\n",
    "                tools=tools,\n",
    "                tool_choice=\"auto\",\n",
    "            )\n",
    "            response_message = response.choices[0].message\n",
    "\n",
    "            tool_calls = response_message.tool_calls\n",
    "\n",
    "            if tool_calls:\n",
    "                messages.append(response_message)\n",
    "                \n",
    "                for tool_call in tool_calls:\n",
    "                    function_name = tool_call.function.name\n",
    "                    \n",
    "                    if function_name == \"get_visa_requirements\":\n",
    "                        try:\n",
    "                            function_args = json.loads(tool_call.function.arguments)\n",
    "                            \n",
    "                            function_response = check_visa(\n",
    "                                passport_country_name=function_args.get(\"passport_country_name\"),\n",
    "                                destination_country_name=function_args.get(\"destination_country_name\")\n",
    "                            )\n",
    "\n",
    "                            messages.append({\n",
    "                                \"tool_call_id\": tool_call.id,\n",
    "                                \"role\": \"tool\",\n",
    "                                \"name\": function_name,\n",
    "                                \"content\": json.dumps(function_response),\n",
    "                            })\n",
    "                        except Exception as e:\n",
    "                            error_message = f\"Error processing request: {str(e)}\"\n",
    "                            messages.append({\n",
    "                                \"tool_call_id\": tool_call.id,\n",
    "                                \"role\": \"tool\",\n",
    "                                \"name\": function_name,\n",
    "                                \"content\": json.dumps({\"error\": error_message}),\n",
    "                            })\n",
    "\n",
    "                second_response = client.chat.completions.create(\n",
    "                    model=model_name,\n",
    "                    messages=messages,\n",
    "                )\n",
    "                final_response_message = second_response.choices[0].message\n",
    "                print(f\"AI: {final_response_message.content}\")\n",
    "                messages.append(final_response_message)\n",
    "\n",
    "            else:\n",
    "                assistant_response = response_message.content\n",
    "                print(f\"AI: {assistant_response}\")\n",
    "                messages.append({\"role\": \"assistant\", \"content\": assistant_response})\n",
    "\n",
    "        except Exception as e:\n",
    "            print(\"AI: Sorry, something went wrong. Please try rephrasing your request.\")"
   ]
  },
  {
   "cell_type": "code",
   "execution_count": null,
   "id": "5711f48d-1ca8-442a-a3c4-1ed3252090d5",
   "metadata": {},
   "outputs": [
    {
     "name": "stdout",
     "output_type": "stream",
     "text": [
      "You:  hello\n"
     ]
    },
    {
     "name": "stdout",
     "output_type": "stream",
     "text": [
      "AI: Hello! How can I assist you today? If you need information regarding visas, please provide your passport country and destination country.\n"
     ]
    },
    {
     "name": "stdout",
     "output_type": "stream",
     "text": [
      "You:  I want to travel to greece from portugal\n"
     ]
    },
    {
     "name": "stdout",
     "output_type": "stream",
     "text": [
      "AI: Could you please provide your passport country? This will help me check the visa requirements for your travel to Greece. Thank you!\n"
     ]
    },
    {
     "name": "stdout",
     "output_type": "stream",
     "text": [
      "You:  told you \n"
     ]
    }
   ],
   "source": [
    "run_conversation()"
   ]
  }
 ],
 "metadata": {
  "kernelspec": {
   "display_name": "Python 3 (ipykernel)",
   "language": "python",
   "name": "python3"
  },
  "language_info": {
   "codemirror_mode": {
    "name": "ipython",
    "version": 3
   },
   "file_extension": ".py",
   "mimetype": "text/x-python",
   "name": "python",
   "nbconvert_exporter": "python",
   "pygments_lexer": "ipython3",
   "version": "3.13.2"
  }
 },
 "nbformat": 4,
 "nbformat_minor": 5
}
